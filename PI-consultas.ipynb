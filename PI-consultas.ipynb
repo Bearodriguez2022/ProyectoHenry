{
 "cells": [
  {
   "cell_type": "code",
   "execution_count": 1,
   "metadata": {},
   "outputs": [],
   "source": [
    "import pandas as pd"
   ]
  },
  {
   "cell_type": "code",
   "execution_count": 2,
   "metadata": {},
   "outputs": [],
   "source": [
    "amazon = pd.read_csv(r'F:\\PI_Henry\\PI-BBDD\\amazon_prime_titles.csv')"
   ]
  },
  {
   "cell_type": "code",
   "execution_count": 3,
   "metadata": {},
   "outputs": [
    {
     "data": {
      "text/html": [
       "<div>\n",
       "<style scoped>\n",
       "    .dataframe tbody tr th:only-of-type {\n",
       "        vertical-align: middle;\n",
       "    }\n",
       "\n",
       "    .dataframe tbody tr th {\n",
       "        vertical-align: top;\n",
       "    }\n",
       "\n",
       "    .dataframe thead th {\n",
       "        text-align: right;\n",
       "    }\n",
       "</style>\n",
       "<table border=\"1\" class=\"dataframe\">\n",
       "  <thead>\n",
       "    <tr style=\"text-align: right;\">\n",
       "      <th></th>\n",
       "      <th>show_id</th>\n",
       "      <th>type</th>\n",
       "      <th>title</th>\n",
       "      <th>director</th>\n",
       "      <th>cast</th>\n",
       "      <th>country</th>\n",
       "      <th>date_added</th>\n",
       "      <th>release_year</th>\n",
       "      <th>rating</th>\n",
       "      <th>duration</th>\n",
       "      <th>listed_in</th>\n",
       "      <th>description</th>\n",
       "    </tr>\n",
       "  </thead>\n",
       "  <tbody>\n",
       "    <tr>\n",
       "      <th>0</th>\n",
       "      <td>s1</td>\n",
       "      <td>Movie</td>\n",
       "      <td>The Grand Seduction</td>\n",
       "      <td>Don McKellar</td>\n",
       "      <td>Brendan Gleeson, Taylor Kitsch, Gordon Pinsent</td>\n",
       "      <td>Canada</td>\n",
       "      <td>March 30, 2021</td>\n",
       "      <td>2014</td>\n",
       "      <td>NaN</td>\n",
       "      <td>113 min</td>\n",
       "      <td>Comedy, Drama</td>\n",
       "      <td>A small fishing village must procure a local d...</td>\n",
       "    </tr>\n",
       "    <tr>\n",
       "      <th>1</th>\n",
       "      <td>s2</td>\n",
       "      <td>Movie</td>\n",
       "      <td>Take Care Good Night</td>\n",
       "      <td>Girish Joshi</td>\n",
       "      <td>Mahesh Manjrekar, Abhay Mahajan, Sachin Khedekar</td>\n",
       "      <td>India</td>\n",
       "      <td>March 30, 2021</td>\n",
       "      <td>2018</td>\n",
       "      <td>13+</td>\n",
       "      <td>110 min</td>\n",
       "      <td>Drama, International</td>\n",
       "      <td>A Metro Family decides to fight a Cyber Crimin...</td>\n",
       "    </tr>\n",
       "  </tbody>\n",
       "</table>\n",
       "</div>"
      ],
      "text/plain": [
       "  show_id   type                 title      director  \\\n",
       "0      s1  Movie   The Grand Seduction  Don McKellar   \n",
       "1      s2  Movie  Take Care Good Night  Girish Joshi   \n",
       "\n",
       "                                               cast country      date_added  \\\n",
       "0    Brendan Gleeson, Taylor Kitsch, Gordon Pinsent  Canada  March 30, 2021   \n",
       "1  Mahesh Manjrekar, Abhay Mahajan, Sachin Khedekar   India  March 30, 2021   \n",
       "\n",
       "   release_year rating duration             listed_in  \\\n",
       "0          2014    NaN  113 min         Comedy, Drama   \n",
       "1          2018    13+  110 min  Drama, International   \n",
       "\n",
       "                                         description  \n",
       "0  A small fishing village must procure a local d...  \n",
       "1  A Metro Family decides to fight a Cyber Crimin...  "
      ]
     },
     "execution_count": 3,
     "metadata": {},
     "output_type": "execute_result"
    }
   ],
   "source": [
    "amazon.head(2)"
   ]
  },
  {
   "cell_type": "code",
   "execution_count": 4,
   "metadata": {},
   "outputs": [],
   "source": [
    "disney = pd.read_csv('F:\\PI_Henry\\PI-BBDD\\disney_plus_titles.csv')"
   ]
  },
  {
   "cell_type": "code",
   "execution_count": 5,
   "metadata": {},
   "outputs": [],
   "source": [
    "hulu = pd.read_csv('F:\\PI_Henry\\PI-BBDD\\hulu_titles.csv')"
   ]
  },
  {
   "cell_type": "code",
   "execution_count": 6,
   "metadata": {},
   "outputs": [],
   "source": [
    "netflix = pd.read_csv(r'F:\\PI_Henry\\PI-BBDD\\netflix_titles.csv')"
   ]
  },
  {
   "attachments": {},
   "cell_type": "markdown",
   "metadata": {},
   "source": [
    "Generar campo id: Cada id se compondrá de la primera letra del nombre de la plataforma, seguido del show_id ya presente en los datasets (ejemplo para títulos de Amazon = as123)"
   ]
  },
  {
   "cell_type": "code",
   "execution_count": 7,
   "metadata": {},
   "outputs": [],
   "source": [
    "#aca creo Nuevo id inentificando al principio de id letra de la plataforma a la que pertenece\n",
    "amazon['NuevoId'] = 'a' + amazon['show_id']\n",
    "disney['NuevoId'] = 'd' + disney['show_id']\n",
    "hulu['NuevoId'] = 'h' + hulu['show_id']\n",
    "netflix['NuevoId'] = 'n' + netflix['show_id']"
   ]
  },
  {
   "cell_type": "code",
   "execution_count": 8,
   "metadata": {},
   "outputs": [],
   "source": [
    "#creo conveniente crear columna plataforma para mejor identificación\n",
    "amazon['plataforma'] = 'amazon'\n",
    "disney['plataforma'] = 'disney'\n",
    "hulu['plataforma'] = 'hulu'\n",
    "netflix['plataforma'] = 'netflix'"
   ]
  },
  {
   "cell_type": "code",
   "execution_count": 9,
   "metadata": {},
   "outputs": [],
   "source": [
    "#aca uno todos los df\n",
    "streaming = pd.concat([amazon, disney, hulu,netflix])"
   ]
  },
  {
   "cell_type": "code",
   "execution_count": 10,
   "metadata": {},
   "outputs": [
    {
     "data": {
      "text/html": [
       "<div>\n",
       "<style scoped>\n",
       "    .dataframe tbody tr th:only-of-type {\n",
       "        vertical-align: middle;\n",
       "    }\n",
       "\n",
       "    .dataframe tbody tr th {\n",
       "        vertical-align: top;\n",
       "    }\n",
       "\n",
       "    .dataframe thead th {\n",
       "        text-align: right;\n",
       "    }\n",
       "</style>\n",
       "<table border=\"1\" class=\"dataframe\">\n",
       "  <thead>\n",
       "    <tr style=\"text-align: right;\">\n",
       "      <th></th>\n",
       "      <th>show_id</th>\n",
       "      <th>type</th>\n",
       "      <th>title</th>\n",
       "      <th>director</th>\n",
       "      <th>cast</th>\n",
       "      <th>country</th>\n",
       "      <th>date_added</th>\n",
       "      <th>release_year</th>\n",
       "      <th>rating</th>\n",
       "      <th>duration</th>\n",
       "      <th>listed_in</th>\n",
       "      <th>description</th>\n",
       "      <th>NuevoId</th>\n",
       "      <th>plataforma</th>\n",
       "    </tr>\n",
       "  </thead>\n",
       "  <tbody>\n",
       "    <tr>\n",
       "      <th>0</th>\n",
       "      <td>s1</td>\n",
       "      <td>Movie</td>\n",
       "      <td>The Grand Seduction</td>\n",
       "      <td>Don McKellar</td>\n",
       "      <td>Brendan Gleeson, Taylor Kitsch, Gordon Pinsent</td>\n",
       "      <td>Canada</td>\n",
       "      <td>March 30, 2021</td>\n",
       "      <td>2014</td>\n",
       "      <td>NaN</td>\n",
       "      <td>113 min</td>\n",
       "      <td>Comedy, Drama</td>\n",
       "      <td>A small fishing village must procure a local d...</td>\n",
       "      <td>as1</td>\n",
       "      <td>amazon</td>\n",
       "    </tr>\n",
       "    <tr>\n",
       "      <th>1</th>\n",
       "      <td>s2</td>\n",
       "      <td>Movie</td>\n",
       "      <td>Take Care Good Night</td>\n",
       "      <td>Girish Joshi</td>\n",
       "      <td>Mahesh Manjrekar, Abhay Mahajan, Sachin Khedekar</td>\n",
       "      <td>India</td>\n",
       "      <td>March 30, 2021</td>\n",
       "      <td>2018</td>\n",
       "      <td>13+</td>\n",
       "      <td>110 min</td>\n",
       "      <td>Drama, International</td>\n",
       "      <td>A Metro Family decides to fight a Cyber Crimin...</td>\n",
       "      <td>as2</td>\n",
       "      <td>amazon</td>\n",
       "    </tr>\n",
       "  </tbody>\n",
       "</table>\n",
       "</div>"
      ],
      "text/plain": [
       "  show_id   type                 title      director  \\\n",
       "0      s1  Movie   The Grand Seduction  Don McKellar   \n",
       "1      s2  Movie  Take Care Good Night  Girish Joshi   \n",
       "\n",
       "                                               cast country      date_added  \\\n",
       "0    Brendan Gleeson, Taylor Kitsch, Gordon Pinsent  Canada  March 30, 2021   \n",
       "1  Mahesh Manjrekar, Abhay Mahajan, Sachin Khedekar   India  March 30, 2021   \n",
       "\n",
       "   release_year rating duration             listed_in  \\\n",
       "0          2014    NaN  113 min         Comedy, Drama   \n",
       "1          2018    13+  110 min  Drama, International   \n",
       "\n",
       "                                         description NuevoId plataforma  \n",
       "0  A small fishing village must procure a local d...     as1     amazon  \n",
       "1  A Metro Family decides to fight a Cyber Crimin...     as2     amazon  "
      ]
     },
     "execution_count": 10,
     "metadata": {},
     "output_type": "execute_result"
    }
   ],
   "source": [
    "streaming.head(2)"
   ]
  },
  {
   "cell_type": "code",
   "execution_count": 11,
   "metadata": {},
   "outputs": [
    {
     "data": {
      "text/plain": [
       "array([nan, '13+', 'ALL', '18+', 'R', 'TV-Y', 'TV-Y7', 'NR', '16+',\n",
       "       'TV-PG', '7+', 'TV-14', 'TV-NR', 'TV-G', 'PG-13', 'TV-MA', 'G',\n",
       "       'PG', 'NC-17', 'UNRATED', '16', 'AGES_16_', 'AGES_18_', 'ALL_AGES',\n",
       "       'NOT_RATE', 'TV-Y7-FV', 'NOT RATED', '2 Seasons', '93 min',\n",
       "       '4 Seasons', '136 min', '91 min', '85 min', '98 min', '89 min',\n",
       "       '94 min', '86 min', '3 Seasons', '121 min', '88 min', '101 min',\n",
       "       '1 Season', '83 min', '100 min', '95 min', '92 min', '96 min',\n",
       "       '109 min', '99 min', '75 min', '87 min', '67 min', '104 min',\n",
       "       '107 min', '84 min', '103 min', '105 min', '119 min', '114 min',\n",
       "       '82 min', '90 min', '130 min', '110 min', '80 min', '6 Seasons',\n",
       "       '97 min', '111 min', '81 min', '49 min', '45 min', '41 min',\n",
       "       '73 min', '40 min', '36 min', '39 min', '34 min', '47 min',\n",
       "       '65 min', '37 min', '78 min', '102 min', '129 min', '115 min',\n",
       "       '112 min', '61 min', '106 min', '76 min', '77 min', '79 min',\n",
       "       '157 min', '28 min', '64 min', '7 min', '5 min', '6 min',\n",
       "       '127 min', '142 min', '108 min', '57 min', '118 min', '116 min',\n",
       "       '12 Seasons', '71 min', '74 min', '66 min', 'UR'], dtype=object)"
      ]
     },
     "execution_count": 11,
     "metadata": {},
     "output_type": "execute_result"
    }
   ],
   "source": [
    "#analizo columna rating y contiene valores de la column duration\n",
    "streaming['rating'].unique()"
   ]
  },
  {
   "cell_type": "code",
   "execution_count": 12,
   "metadata": {},
   "outputs": [
    {
     "data": {
      "text/plain": [
       "array(['113 min', '110 min', '74 min', '69 min', '45 min', '52 min',\n",
       "       '98 min', '131 min', '87 min', '92 min', '88 min', '93 min',\n",
       "       '94 min', '46 min', '96 min', '1 Season', '104 min', '62 min',\n",
       "       '50 min', '3 Seasons', '2 Seasons', '86 min', '36 min', '37 min',\n",
       "       '103 min', '9 min', '18 min', '14 min', '20 min', '19 min',\n",
       "       '22 min', '60 min', '6 min', '54 min', '5 min', '84 min',\n",
       "       '126 min', '125 min', '109 min', '89 min', '85 min', '56 min',\n",
       "       '40 min', '111 min', '33 min', '34 min', '95 min', '99 min',\n",
       "       '78 min', '4 Seasons', '77 min', '55 min', '53 min', '115 min',\n",
       "       '58 min', '49 min', '135 min', '91 min', '64 min', '59 min',\n",
       "       '48 min', '122 min', '90 min', '102 min', '65 min', '114 min',\n",
       "       '136 min', '70 min', '138 min', '100 min', '480 min', '4 min',\n",
       "       '30 min', '152 min', '68 min', '57 min', '7 Seasons', '31 min',\n",
       "       '151 min', '149 min', '9 Seasons', '141 min', '121 min', '79 min',\n",
       "       '140 min', '51 min', '106 min', '75 min', '27 min', '107 min',\n",
       "       '108 min', '38 min', '157 min', '43 min', '118 min', '139 min',\n",
       "       '6 Seasons', '112 min', '15 min', '72 min', '5 Seasons', '116 min',\n",
       "       '142 min', '71 min', '42 min', '81 min', '32 min', '66 min',\n",
       "       '127 min', '159 min', '67 min', '29 min', '132 min', '101 min',\n",
       "       '164 min', '73 min', '61 min', '80 min', '83 min', '44 min',\n",
       "       '120 min', '26 min', '97 min', '23 min', '105 min', '82 min',\n",
       "       '11 min', '148 min', '161 min', '123 min', '29 Seasons', '0 min',\n",
       "       '124 min', '143 min', '35 min', '47 min', '170 min', '19 Seasons',\n",
       "       '3 min', '146 min', '601 min', '24 min', '21 Seasons', '154 min',\n",
       "       '128 min', '133 min', '153 min', '119 min', '63 min', '169 min',\n",
       "       '174 min', '144 min', '7 min', '137 min', '76 min', '39 min',\n",
       "       '8 Seasons', '12 Seasons', '134 min', '163 min', '1 min',\n",
       "       '145 min', '162 min', '41 min', '147 min', '155 min', '117 min',\n",
       "       '167 min', '11 Seasons', '28 min', '25 min', '180 min', '2 min',\n",
       "       '541 min', '240 min', '129 min', '178 min', '171 min', '21 min',\n",
       "       '172 min', '173 min', '10 min', '166 min', '160 min', '130 min',\n",
       "       '479 min', '13 min', '8 min', '10 Seasons', '17 min', '16 min',\n",
       "       '158 min', '183 min', '12 min', '14 Seasons', '150 min', '481 min',\n",
       "       '181 min', '156 min', '540 min', '177 min', '550 min', '485 min',\n",
       "       '176 min', '193 min', '165 min', '175 min', '188 min', '187 min',\n",
       "       '168 min', '190 min', '185 min', '209 min', '192 min', '182 min',\n",
       "       '207 min', '269 min', '15 Seasons', '191 min', '32 Seasons',\n",
       "       '16 Seasons', nan, '23 Seasons', '20 Seasons', '13 Seasons',\n",
       "       '17 Seasons', '30 Seasons', '22 Seasons', '25 Seasons',\n",
       "       '34 Seasons', '26 Seasons', '229 min', '189 min', '273 min',\n",
       "       '204 min', '212 min', '224 min', '203 min', '194 min', '233 min',\n",
       "       '237 min', '230 min', '195 min', '253 min', '208 min', '186 min',\n",
       "       '312 min', '214 min', '179 min', '200 min', '196 min', '228 min',\n",
       "       '205 min', '201 min'], dtype=object)"
      ]
     },
     "execution_count": 12,
     "metadata": {},
     "output_type": "execute_result"
    }
   ],
   "source": [
    "streaming['duration'].unique()"
   ]
  },
  {
   "cell_type": "code",
   "execution_count": 13,
   "metadata": {},
   "outputs": [
    {
     "data": {
      "text/plain": [
       "482"
      ]
     },
     "execution_count": 13,
     "metadata": {},
     "output_type": "execute_result"
    }
   ],
   "source": [
    "#para saber si tiene valores faltantes\n",
    "streaming['duration'].isna().sum()"
   ]
  },
  {
   "cell_type": "code",
   "execution_count": 14,
   "metadata": {},
   "outputs": [],
   "source": [
    "#lleno valores faltantes de duration con los valores rating\n",
    "streaming['duration'].fillna(value=streaming['rating'], inplace=True)"
   ]
  },
  {
   "cell_type": "code",
   "execution_count": 15,
   "metadata": {},
   "outputs": [
    {
     "data": {
      "text/plain": [
       "106"
      ]
     },
     "execution_count": 15,
     "metadata": {},
     "output_type": "execute_result"
    }
   ],
   "source": [
    "#disminuyo la cantidad de faltantes\n",
    "streaming['duration'].isna().sum()"
   ]
  },
  {
   "cell_type": "code",
   "execution_count": 16,
   "metadata": {},
   "outputs": [],
   "source": [
    "#siguen quedando nan los relleno con 0 porque para hacer la primer funcion necesito que sean numericos y sin nan\n",
    "streaming['duration'].fillna( 0 , inplace=True) "
   ]
  },
  {
   "cell_type": "code",
   "execution_count": 17,
   "metadata": {},
   "outputs": [
    {
     "data": {
      "text/plain": [
       "0"
      ]
     },
     "execution_count": 17,
     "metadata": {},
     "output_type": "execute_result"
    }
   ],
   "source": [
    "streaming['duration'].isna().sum()"
   ]
  },
  {
   "attachments": {},
   "cell_type": "markdown",
   "metadata": {},
   "source": [
    "Los valores nulos del campo rating deberán reemplazarse por el string “G” (corresponde al maturity rating: “general for all audiences”)"
   ]
  },
  {
   "cell_type": "code",
   "execution_count": 18,
   "metadata": {},
   "outputs": [
    {
     "data": {
      "text/plain": [
       "0           G\n",
       "1         13+\n",
       "2           G\n",
       "3           G\n",
       "4           G\n",
       "        ...  \n",
       "8802        R\n",
       "8803    TV-Y7\n",
       "8804        R\n",
       "8805       PG\n",
       "8806    TV-14\n",
       "Name: rating, Length: 22998, dtype: object"
      ]
     },
     "execution_count": 18,
     "metadata": {},
     "output_type": "execute_result"
    }
   ],
   "source": [
    "streaming['rating'].fillna('G')"
   ]
  },
  {
   "attachments": {},
   "cell_type": "markdown",
   "metadata": {},
   "source": [
    "De haber fechas, deberán tener el formato AAAA-mm-dd"
   ]
  },
  {
   "cell_type": "code",
   "execution_count": 19,
   "metadata": {},
   "outputs": [],
   "source": [
    "streaming['date_added'] = pd.to_datetime(streaming['date_added'])"
   ]
  },
  {
   "attachments": {},
   "cell_type": "markdown",
   "metadata": {},
   "source": [
    "Los campos de texto deberán estar en minúsculas, sin excepciones"
   ]
  },
  {
   "cell_type": "code",
   "execution_count": 20,
   "metadata": {},
   "outputs": [],
   "source": [
    "#aplico lambda para asegurarme de pasar todas str a minusculas\n",
    "streaming = streaming.apply(lambda x: x.astype(str).str.lower() if x.dtype == 'object' else x)\n"
   ]
  },
  {
   "attachments": {},
   "cell_type": "markdown",
   "metadata": {},
   "source": [
    "El campo duration debe convertirse en dos campos: duration_int y duration_type. El primero será un integer y el segundo un string indicando la unidad de medición de duración: min (minutos) o season (temporadas)\n",
    "\n"
   ]
  },
  {
   "cell_type": "code",
   "execution_count": 21,
   "metadata": {},
   "outputs": [],
   "source": [
    "#creo los dos campos solicitados , separando duration para darle los valores correspondientes\n",
    "streaming[['duration_int', 'duration_type']] = streaming['duration'].str.split(' ', expand=True)"
   ]
  },
  {
   "cell_type": "code",
   "execution_count": 22,
   "metadata": {},
   "outputs": [
    {
     "data": {
      "text/plain": [
       "array(['113', '110', '74', '69', '45', '52', '98', '131', '87', '92',\n",
       "       '88', '93', '94', '46', '96', '1', '104', '62', '50', '3', '2',\n",
       "       '86', '36', '37', '103', '9', '18', '14', '20', '19', '22', '60',\n",
       "       '6', '54', '5', '84', '126', '125', '109', '89', '85', '56', '40',\n",
       "       '111', '33', '34', '95', '99', '78', '4', '77', '55', '53', '115',\n",
       "       '58', '49', '135', '91', '64', '59', '48', '122', '90', '102',\n",
       "       '65', '114', '136', '70', '138', '100', '480', '30', '152', '68',\n",
       "       '57', '7', '31', '151', '149', '141', '121', '79', '140', '51',\n",
       "       '106', '75', '27', '107', '108', '38', '157', '43', '118', '139',\n",
       "       '112', '15', '72', '116', '142', '71', '42', '81', '32', '66',\n",
       "       '127', '159', '67', '29', '132', '101', '164', '73', '61', '80',\n",
       "       '83', '44', '120', '26', '97', '23', '105', '82', '11', '148',\n",
       "       '161', '123', '0', '124', '143', '35', '47', '170', '146', '601',\n",
       "       '24', '21', '154', '128', '133', '153', '119', '63', '169', '174',\n",
       "       '144', '137', '76', '39', '8', '12', '134', '163', '145', '162',\n",
       "       '41', '147', '155', '117', '167', '28', '25', '180', '541', '240',\n",
       "       '129', '178', '171', '172', '173', '10', '166', '160', '130',\n",
       "       '479', '13', '17', '16', '158', '183', '150', '481', '181', '156',\n",
       "       '540', '177', '550', '485', '176', '193', '165', '175', '188',\n",
       "       '187', '168', '190', '185', '209', '192', '182', '207', '269',\n",
       "       '191', 'tv-ma', 'tv-pg', 'tv-14', 'tv-g', '229', '189', '273',\n",
       "       '204', '212', '224', '203', '194', '233', '237', '230', '195',\n",
       "       '253', '208', '186', '312', '214', '179', '200', '196', '228',\n",
       "       '205', '201'], dtype=object)"
      ]
     },
     "execution_count": 22,
     "metadata": {},
     "output_type": "execute_result"
    }
   ],
   "source": [
    "streaming['duration_int'].unique()"
   ]
  },
  {
   "cell_type": "code",
   "execution_count": 23,
   "metadata": {},
   "outputs": [],
   "source": [
    "#reeplace esos valores por 0 para poder ordenar o sacar max\n",
    "#al principio funciono pero luego de varias ejecuciones comenzo a dar None\n",
    "#streaming['duration_int'] = streaming['duration_int'].replace(['tv-ma', 'tv-pg', 'tv-14', 'tv-g'], 0, inplace= True )"
   ]
  },
  {
   "cell_type": "code",
   "execution_count": 24,
   "metadata": {},
   "outputs": [
    {
     "name": "stdout",
     "output_type": "stream",
     "text": [
      "0       113\n",
      "1       110\n",
      "2        74\n",
      "3        69\n",
      "4        45\n",
      "       ... \n",
      "8802    158\n",
      "8803      2\n",
      "8804     88\n",
      "8805     88\n",
      "8806    111\n",
      "Name: duration_int, Length: 22998, dtype: object\n"
     ]
    }
   ],
   "source": [
    "import re\n",
    "\n",
    "# Creamos una lista con los valores que queremos reemplazar\n",
    "values_to_replace = ['tv-ma', 'tv-pg', 'tv-14', 'tv-g']\n",
    "\n",
    "# Iteramos sobre los valores y utilizamos una expresión regular para reemplazarlos\n",
    "for value in values_to_replace:\n",
    "    streaming['duration_int'] = streaming['duration_int'].replace(\n",
    "        '^' + value + '$', '0', regex=True)\n",
    "\n",
    "# Mostramos los resultados\n",
    "print(streaming['duration_int'])\n"
   ]
  },
  {
   "cell_type": "code",
   "execution_count": 25,
   "metadata": {},
   "outputs": [
    {
     "data": {
      "text/plain": [
       "0    113\n",
       "1    110\n",
       "2     74\n",
       "3     69\n",
       "4     45\n",
       "Name: duration_int, dtype: object"
      ]
     },
     "execution_count": 25,
     "metadata": {},
     "output_type": "execute_result"
    }
   ],
   "source": [
    "streaming['duration_int'].head()"
   ]
  },
  {
   "cell_type": "code",
   "execution_count": null,
   "metadata": {},
   "outputs": [],
   "source": []
  },
  {
   "cell_type": "code",
   "execution_count": 26,
   "metadata": {},
   "outputs": [
    {
     "name": "stdout",
     "output_type": "stream",
     "text": [
      "si hay\n"
     ]
    }
   ],
   "source": [
    "if streaming['duration_int'].isna().any():\n",
    "  print('no hay')\n",
    "else:\n",
    "    print('si hay')"
   ]
  },
  {
   "cell_type": "code",
   "execution_count": 27,
   "metadata": {},
   "outputs": [
    {
     "data": {
      "text/plain": [
       "dtype('O')"
      ]
     },
     "execution_count": 27,
     "metadata": {},
     "output_type": "execute_result"
    }
   ],
   "source": [
    "#veo que tipo de valores tiene la columna duration_int\n",
    "streaming['duration_int'].dtype"
   ]
  },
  {
   "cell_type": "code",
   "execution_count": 28,
   "metadata": {},
   "outputs": [],
   "source": [
    "#convierto todos los valores a int ya que eran objt\n",
    "streaming['duration_int'] = streaming['duration_int'].astype('Int64')"
   ]
  },
  {
   "cell_type": "code",
   "execution_count": 29,
   "metadata": {},
   "outputs": [
    {
     "data": {
      "text/plain": [
       "Int64Dtype()"
      ]
     },
     "execution_count": 29,
     "metadata": {},
     "output_type": "execute_result"
    }
   ],
   "source": [
    "streaming['duration_int'].dtype"
   ]
  },
  {
   "cell_type": "code",
   "execution_count": 30,
   "metadata": {},
   "outputs": [
    {
     "data": {
      "text/plain": [
       "933     601\n",
       "3850    550\n",
       "1673    541\n",
       "3445    541\n",
       "4277    541\n",
       "       ... \n",
       "15        0\n",
       "1649      0\n",
       "1452      0\n",
       "327       0\n",
       "1118      0\n",
       "Name: duration_int, Length: 22998, dtype: Int64"
      ]
     },
     "execution_count": 30,
     "metadata": {},
     "output_type": "execute_result"
    }
   ],
   "source": [
    "#ahora si puedo ordenar la columna duration_int\n",
    "streaming['duration_int'].sort_values(ascending= False)"
   ]
  },
  {
   "cell_type": "code",
   "execution_count": 124,
   "metadata": {},
   "outputs": [
    {
     "data": {
      "text/plain": [
       "show_id                                                       s934\n",
       "type                                                         movie\n",
       "title            soothing surf at del norte for sleep black screen\n",
       "director                                               mark knight\n",
       "cast                                                           nan\n",
       "country                                                        nan\n",
       "date_added                                                     NaT\n",
       "release_year                                                  2018\n",
       "rating                                                         all\n",
       "duration                                                   601 min\n",
       "listed_in                                         special interest\n",
       "description      black screen reduces the blue-spectrum light w...\n",
       "NuevoId                                                      as934\n",
       "plataforma                                                  amazon\n",
       "duration_int                                                   601\n",
       "duration_type                                                  min\n",
       "Name: 933, dtype: object"
      ]
     },
     "execution_count": 124,
     "metadata": {},
     "output_type": "execute_result"
    }
   ],
   "source": [
    "#esta es la fila con el mayor tiempo, la busque para asegurarme de que mi consulta resulte\n",
    "streaming.iloc[933]"
   ]
  },
  {
   "cell_type": "code",
   "execution_count": 125,
   "metadata": {},
   "outputs": [
    {
     "data": {
      "text/plain": [
       "601"
      ]
     },
     "execution_count": 125,
     "metadata": {},
     "output_type": "execute_result"
    }
   ],
   "source": [
    "streaming['duration_int'].max()"
   ]
  },
  {
   "cell_type": "code",
   "execution_count": 126,
   "metadata": {},
   "outputs": [],
   "source": [
    "streaming['duration_int'] =  streaming['duration_int'].dropna(inplace= True)"
   ]
  },
  {
   "cell_type": "code",
   "execution_count": 127,
   "metadata": {},
   "outputs": [
    {
     "data": {
      "text/plain": [
       "Index(['show_id', 'type', 'title', 'director', 'cast', 'country', 'date_added',\n",
       "       'release_year', 'rating', 'duration', 'listed_in', 'description',\n",
       "       'NuevoId', 'plataforma', 'duration_int', 'duration_type'],\n",
       "      dtype='object')"
      ]
     },
     "execution_count": 127,
     "metadata": {},
     "output_type": "execute_result"
    }
   ],
   "source": [
    "streaming.columns"
   ]
  },
  {
   "cell_type": "code",
   "execution_count": 31,
   "metadata": {},
   "outputs": [],
   "source": [
    "consul1= streaming[(streaming['release_year']== 'year') &\n",
    "                           (streaming[\"plataforma\"]=='plataforma') &\n",
    "                           (streaming[\"duration_type\"]=='duration_tipo') &\n",
    "                           (streaming[\"type\"]==\"movie\")].sort_values(by='duration_int', ascending=False).head(1)"
   ]
  },
  {
   "cell_type": "code",
   "execution_count": 129,
   "metadata": {},
   "outputs": [
    {
     "data": {
      "text/plain": [
       "0    2014\n",
       "1    2018\n",
       "Name: release_year, dtype: int64"
      ]
     },
     "execution_count": 129,
     "metadata": {},
     "output_type": "execute_result"
    }
   ],
   "source": [
    "#aca busque que columna contenia solo años para utilizarla como year\n",
    "streaming['release_year'].head(2)"
   ]
  },
  {
   "cell_type": "code",
   "execution_count": 130,
   "metadata": {},
   "outputs": [
    {
     "data": {
      "text/plain": [
       "array(['min', 'season', 'seasons', None], dtype=object)"
      ]
     },
     "execution_count": 130,
     "metadata": {},
     "output_type": "execute_result"
    }
   ],
   "source": [
    "#queria ver los valores \n",
    "streaming['duration_type'].unique()"
   ]
  },
  {
   "cell_type": "code",
   "execution_count": 131,
   "metadata": {},
   "outputs": [
    {
     "data": {
      "text/plain": [
       "0       1\n",
       "1       1\n",
       "2       1\n",
       "3       1\n",
       "4       1\n",
       "       ..\n",
       "8802    1\n",
       "8803    3\n",
       "8804    1\n",
       "8805    1\n",
       "8806    1\n",
       "Name: type_numerico, Length: 22998, dtype: int64"
      ]
     },
     "execution_count": 131,
     "metadata": {},
     "output_type": "execute_result"
    }
   ],
   "source": [
    "#aca tranformo duration_type en numerico para poder sacar max\n",
    "mapeo = {'min':1, 'season':2, 'seasons':3, None:4}\n",
    "streaming['type_numerico'] = streaming['duration_type'].map(mapeo)\n",
    "streaming['type_numerico']"
   ]
  },
  {
   "cell_type": "code",
   "execution_count": 132,
   "metadata": {},
   "outputs": [
    {
     "data": {
      "text/plain": [
       "0       1\n",
       "1       1\n",
       "2       1\n",
       "3       1\n",
       "4       1\n",
       "       ..\n",
       "8802    4\n",
       "8803    4\n",
       "8804    4\n",
       "8805    4\n",
       "8806    4\n",
       "Name: plataforma_numerico, Length: 22998, dtype: int64"
      ]
     },
     "execution_count": 132,
     "metadata": {},
     "output_type": "execute_result"
    }
   ],
   "source": [
    "#aca mapeo para poder asignar valores numericos a las plataformas\n",
    "mapeo = {'amazon':1, 'disney':2, 'hulu':3, 'netflix':4}\n",
    "streaming['plataforma_numerico'] = streaming['plataforma'].map(mapeo)\n",
    "streaming['plataforma_numerico']\n"
   ]
  },
  {
   "cell_type": "code",
   "execution_count": 133,
   "metadata": {},
   "outputs": [
    {
     "data": {
      "text/plain": [
       "Index(['show_id', 'type', 'title', 'director', 'cast', 'country', 'date_added',\n",
       "       'release_year', 'rating', 'duration', 'listed_in', 'description',\n",
       "       'NuevoId', 'plataforma', 'duration_int', 'duration_type',\n",
       "       'type_numerico', 'plataforma_numerico'],\n",
       "      dtype='object')"
      ]
     },
     "execution_count": 133,
     "metadata": {},
     "output_type": "execute_result"
    }
   ],
   "source": [
    "streaming.columns"
   ]
  },
  {
   "cell_type": "code",
   "execution_count": 144,
   "metadata": {},
   "outputs": [],
   "source": [
    "df = streaming\n",
    "\n",
    "def get_max_duration(release_year=None, platform=None, duration_type=None):\n",
    "    # Filtramos el DataFrame según los filtros opcionales\n",
    "    copia_striming = streaming.copy()\n",
    "    if release_year is not None and release_year !=  '0' :\n",
    "        release_year = copia_striming['release_year']\n",
    "    if platform is not None and platform != 0 :\n",
    "        platform = copia_striming['plataforma']#lo hice con numerico porque de otra forma no me dejaba sacar max \n",
    "    if duration_type is not None and duration_type != 0 :\n",
    "        duration_type = copia_striming[copia_striming['duration_type'] & copia_striming['duration_int'].max()]\n",
    "        \n",
    "    \n",
    "    # Encontramos la película con la mayor duración\n",
    "    max_duration_movie = copia_striming.iloc[copia_striming['duration_int'].max(), axis= 0]\n",
    "    \n",
    "    # Devolvemos el título de la película con la mayor duración\n",
    "    return max_duration_movie [['title','plataforma','duration_type', 'release_year']]\n",
    "\n",
    "\n"
   ]
  },
  {
   "cell_type": "code",
   "execution_count": 146,
   "metadata": {},
   "outputs": [
    {
     "ename": "TypeError",
     "evalue": "Cannot index by location index with a non-integer key",
     "output_type": "error",
     "traceback": [
      "\u001b[1;31m---------------------------------------------------------------------------\u001b[0m",
      "\u001b[1;31mTypeError\u001b[0m                                 Traceback (most recent call last)",
      "\u001b[1;32md:\\proyect1\\PI-consultas.ipynb Celda 48\u001b[0m in \u001b[0;36m<cell line: 1>\u001b[1;34m()\u001b[0m\n\u001b[1;32m----> <a href='vscode-notebook-cell:/d%3A/proyect1/PI-consultas.ipynb#X63sZmlsZQ%3D%3D?line=0'>1</a>\u001b[0m get_max_duration(release_year\u001b[39m=\u001b[39;49m \u001b[39mNone\u001b[39;49;00m, platform\u001b[39m=\u001b[39;49m\u001b[39m'\u001b[39;49m\u001b[39mamazon\u001b[39;49m\u001b[39m'\u001b[39;49m, duration_type\u001b[39m=\u001b[39;49m \u001b[39m'\u001b[39;49m\u001b[39mmin\u001b[39;49m\u001b[39m'\u001b[39;49m)\n",
      "\u001b[1;32md:\\proyect1\\PI-consultas.ipynb Celda 48\u001b[0m in \u001b[0;36mget_max_duration\u001b[1;34m(release_year, platform, duration_type)\u001b[0m\n\u001b[0;32m     <a href='vscode-notebook-cell:/d%3A/proyect1/PI-consultas.ipynb#X63sZmlsZQ%3D%3D?line=10'>11</a>\u001b[0m     duration_type \u001b[39m=\u001b[39m copia_striming[copia_striming[\u001b[39m'\u001b[39m\u001b[39mduration_type\u001b[39m\u001b[39m'\u001b[39m] \u001b[39m&\u001b[39m copia_striming[\u001b[39m'\u001b[39m\u001b[39mduration_int\u001b[39m\u001b[39m'\u001b[39m]\u001b[39m.\u001b[39mmax()]\n\u001b[0;32m     <a href='vscode-notebook-cell:/d%3A/proyect1/PI-consultas.ipynb#X63sZmlsZQ%3D%3D?line=13'>14</a>\u001b[0m \u001b[39m# Encontramos la película con la mayor duración\u001b[39;00m\n\u001b[1;32m---> <a href='vscode-notebook-cell:/d%3A/proyect1/PI-consultas.ipynb#X63sZmlsZQ%3D%3D?line=14'>15</a>\u001b[0m max_duration_movie \u001b[39m=\u001b[39m copia_striming\u001b[39m.\u001b[39;49miloc[copia_striming[\u001b[39m'\u001b[39;49m\u001b[39mduration_int\u001b[39;49m\u001b[39m'\u001b[39;49m]\u001b[39m.\u001b[39;49mmax()]\n\u001b[0;32m     <a href='vscode-notebook-cell:/d%3A/proyect1/PI-consultas.ipynb#X63sZmlsZQ%3D%3D?line=16'>17</a>\u001b[0m \u001b[39m# Devolvemos el título de la película con la mayor duración\u001b[39;00m\n\u001b[0;32m     <a href='vscode-notebook-cell:/d%3A/proyect1/PI-consultas.ipynb#X63sZmlsZQ%3D%3D?line=17'>18</a>\u001b[0m \u001b[39mreturn\u001b[39;00m max_duration_movie [[\u001b[39m'\u001b[39m\u001b[39mtitle\u001b[39m\u001b[39m'\u001b[39m,\u001b[39m'\u001b[39m\u001b[39mplataforma\u001b[39m\u001b[39m'\u001b[39m,\u001b[39m'\u001b[39m\u001b[39mduration_type\u001b[39m\u001b[39m'\u001b[39m, \u001b[39m'\u001b[39m\u001b[39mrelease_year\u001b[39m\u001b[39m'\u001b[39m]]\n",
      "File \u001b[1;32mc:\\Users\\alumno\\AppData\\Local\\Programs\\Python\\Python310\\lib\\site-packages\\pandas\\core\\indexing.py:1074\u001b[0m, in \u001b[0;36m_LocationIndexer.__getitem__\u001b[1;34m(self, key)\u001b[0m\n\u001b[0;32m   1071\u001b[0m axis \u001b[39m=\u001b[39m \u001b[39mself\u001b[39m\u001b[39m.\u001b[39maxis \u001b[39mor\u001b[39;00m \u001b[39m0\u001b[39m\n\u001b[0;32m   1073\u001b[0m maybe_callable \u001b[39m=\u001b[39m com\u001b[39m.\u001b[39mapply_if_callable(key, \u001b[39mself\u001b[39m\u001b[39m.\u001b[39mobj)\n\u001b[1;32m-> 1074\u001b[0m \u001b[39mreturn\u001b[39;00m \u001b[39mself\u001b[39;49m\u001b[39m.\u001b[39;49m_getitem_axis(maybe_callable, axis\u001b[39m=\u001b[39;49maxis)\n",
      "File \u001b[1;32mc:\\Users\\alumno\\AppData\\Local\\Programs\\Python\\Python310\\lib\\site-packages\\pandas\\core\\indexing.py:1623\u001b[0m, in \u001b[0;36m_iLocIndexer._getitem_axis\u001b[1;34m(self, key, axis)\u001b[0m\n\u001b[0;32m   1621\u001b[0m key \u001b[39m=\u001b[39m item_from_zerodim(key)\n\u001b[0;32m   1622\u001b[0m \u001b[39mif\u001b[39;00m \u001b[39mnot\u001b[39;00m is_integer(key):\n\u001b[1;32m-> 1623\u001b[0m     \u001b[39mraise\u001b[39;00m \u001b[39mTypeError\u001b[39;00m(\u001b[39m\"\u001b[39m\u001b[39mCannot index by location index with a non-integer key\u001b[39m\u001b[39m\"\u001b[39m)\n\u001b[0;32m   1625\u001b[0m \u001b[39m# validate the location\u001b[39;00m\n\u001b[0;32m   1626\u001b[0m \u001b[39mself\u001b[39m\u001b[39m.\u001b[39m_validate_integer(key, axis)\n",
      "\u001b[1;31mTypeError\u001b[0m: Cannot index by location index with a non-integer key"
     ]
    }
   ],
   "source": [
    "get_max_duration(release_year= None, platform='amazon', duration_type= 'min')"
   ]
  },
  {
   "cell_type": "code",
   "execution_count": 147,
   "metadata": {},
   "outputs": [],
   "source": [
    "#cambio el nombre de la columna rating por score, me parece mas adecuada ya que es la puntuacion de los usuarios\n",
    "streaming =streaming.rename(columns={'rating':'score'})"
   ]
  },
  {
   "cell_type": "code",
   "execution_count": 148,
   "metadata": {},
   "outputs": [
    {
     "data": {
      "text/plain": [
       "dtype('O')"
      ]
     },
     "execution_count": 148,
     "metadata": {},
     "output_type": "execute_result"
    }
   ],
   "source": [
    "#constato que tipo de valores tiene la columna con las que quiero trabajar\n",
    "streaming['score'].dtype"
   ]
  },
  {
   "cell_type": "code",
   "execution_count": 162,
   "metadata": {},
   "outputs": [
    {
     "ename": "TypeError",
     "evalue": "'int' object is not iterable",
     "output_type": "error",
     "traceback": [
      "\u001b[1;31m---------------------------------------------------------------------------\u001b[0m",
      "\u001b[1;31mTypeError\u001b[0m                                 Traceback (most recent call last)",
      "\u001b[1;32md:\\proyect1\\PI-consultas.ipynb Celda 51\u001b[0m in \u001b[0;36m<cell line: 2>\u001b[1;34m()\u001b[0m\n\u001b[0;32m      <a href='vscode-notebook-cell:/d%3A/proyect1/PI-consultas.ipynb#Y100sZmlsZQ%3D%3D?line=0'>1</a>\u001b[0m \u001b[39m#no me deja cambiarlo a int\u001b[39;00m\n\u001b[1;32m----> <a href='vscode-notebook-cell:/d%3A/proyect1/PI-consultas.ipynb#Y100sZmlsZQ%3D%3D?line=1'>2</a>\u001b[0m \u001b[39mfor\u001b[39;00m i \u001b[39min\u001b[39;00m \u001b[39mlen\u001b[39m(streaming[\u001b[39m'\u001b[39m\u001b[39mscore\u001b[39m\u001b[39m'\u001b[39m]):\n\u001b[0;32m      <a href='vscode-notebook-cell:/d%3A/proyect1/PI-consultas.ipynb#Y100sZmlsZQ%3D%3D?line=2'>3</a>\u001b[0m     i\u001b[39m.\u001b[39mastype(\u001b[39m'\u001b[39m\u001b[39mint\u001b[39m\u001b[39m'\u001b[39m)\n",
      "\u001b[1;31mTypeError\u001b[0m: 'int' object is not iterable"
     ]
    }
   ],
   "source": [
    "#no me deja cambiarlo a int\n",
    "for i in len(streaming['score']):\n",
    "    i.astype('int')\n"
   ]
  },
  {
   "cell_type": "code",
   "execution_count": 166,
   "metadata": {},
   "outputs": [],
   "source": [
    "def get_score_count(platform, scored, year):\n",
    "    if scored is not type(str):\n",
    "        print('introduce un numero con este forma \"5\"')\n",
    "\n",
    "    # Filtrar por plataforma y año\n",
    "    df_filtered = streaming[(streaming['plataforma'] == platform) & (streaming['release_year'] == year)]\n",
    "    \n",
    "    # Contar películas con puntaje mayor a XX\n",
    "    count = (df_filtered['score'] >= scored).sum()\n",
    "    \n",
    "    return count\n"
   ]
  },
  {
   "cell_type": "code",
   "execution_count": 167,
   "metadata": {},
   "outputs": [
    {
     "name": "stdout",
     "output_type": "stream",
     "text": [
      "introduce un numero con este forma \"5\"\n"
     ]
    },
    {
     "ename": "TypeError",
     "evalue": "'>=' not supported between instances of 'str' and 'int'",
     "output_type": "error",
     "traceback": [
      "\u001b[1;31m---------------------------------------------------------------------------\u001b[0m",
      "\u001b[1;31mTypeError\u001b[0m                                 Traceback (most recent call last)",
      "\u001b[1;32md:\\proyect1\\PI-consultas.ipynb Celda 53\u001b[0m in \u001b[0;36m<cell line: 1>\u001b[1;34m()\u001b[0m\n\u001b[1;32m----> <a href='vscode-notebook-cell:/d%3A/proyect1/PI-consultas.ipynb#Y120sZmlsZQ%3D%3D?line=0'>1</a>\u001b[0m get_score_count(platform\u001b[39m=\u001b[39;49m \u001b[39m'\u001b[39;49m\u001b[39mamazon\u001b[39;49m\u001b[39m'\u001b[39;49m, scored\u001b[39m=\u001b[39;49m \u001b[39m4\u001b[39;49m, year\u001b[39m=\u001b[39;49m \u001b[39m2020\u001b[39;49m)\n",
      "\u001b[1;32md:\\proyect1\\PI-consultas.ipynb Celda 53\u001b[0m in \u001b[0;36mget_score_count\u001b[1;34m(platform, scored, year)\u001b[0m\n\u001b[0;32m      <a href='vscode-notebook-cell:/d%3A/proyect1/PI-consultas.ipynb#Y120sZmlsZQ%3D%3D?line=5'>6</a>\u001b[0m df_filtered \u001b[39m=\u001b[39m streaming[(streaming[\u001b[39m'\u001b[39m\u001b[39mplataforma\u001b[39m\u001b[39m'\u001b[39m] \u001b[39m==\u001b[39m platform) \u001b[39m&\u001b[39m (streaming[\u001b[39m'\u001b[39m\u001b[39mrelease_year\u001b[39m\u001b[39m'\u001b[39m] \u001b[39m==\u001b[39m year)]\n\u001b[0;32m      <a href='vscode-notebook-cell:/d%3A/proyect1/PI-consultas.ipynb#Y120sZmlsZQ%3D%3D?line=7'>8</a>\u001b[0m \u001b[39m# Contar películas con puntaje mayor a XX\u001b[39;00m\n\u001b[1;32m----> <a href='vscode-notebook-cell:/d%3A/proyect1/PI-consultas.ipynb#Y120sZmlsZQ%3D%3D?line=8'>9</a>\u001b[0m count \u001b[39m=\u001b[39m (df_filtered[\u001b[39m'\u001b[39;49m\u001b[39mscore\u001b[39;49m\u001b[39m'\u001b[39;49m] \u001b[39m>\u001b[39;49m\u001b[39m=\u001b[39;49m scored)\u001b[39m.\u001b[39msum()\n\u001b[0;32m     <a href='vscode-notebook-cell:/d%3A/proyect1/PI-consultas.ipynb#Y120sZmlsZQ%3D%3D?line=10'>11</a>\u001b[0m \u001b[39mreturn\u001b[39;00m count\n",
      "File \u001b[1;32mc:\\Users\\alumno\\AppData\\Local\\Programs\\Python\\Python310\\lib\\site-packages\\pandas\\core\\ops\\common.py:72\u001b[0m, in \u001b[0;36m_unpack_zerodim_and_defer.<locals>.new_method\u001b[1;34m(self, other)\u001b[0m\n\u001b[0;32m     68\u001b[0m             \u001b[39mreturn\u001b[39;00m \u001b[39mNotImplemented\u001b[39m\n\u001b[0;32m     70\u001b[0m other \u001b[39m=\u001b[39m item_from_zerodim(other)\n\u001b[1;32m---> 72\u001b[0m \u001b[39mreturn\u001b[39;00m method(\u001b[39mself\u001b[39;49m, other)\n",
      "File \u001b[1;32mc:\\Users\\alumno\\AppData\\Local\\Programs\\Python\\Python310\\lib\\site-packages\\pandas\\core\\arraylike.py:63\u001b[0m, in \u001b[0;36mOpsMixin.__ge__\u001b[1;34m(self, other)\u001b[0m\n\u001b[0;32m     61\u001b[0m \u001b[39m@unpack_zerodim_and_defer\u001b[39m(\u001b[39m\"\u001b[39m\u001b[39m__ge__\u001b[39m\u001b[39m\"\u001b[39m)\n\u001b[0;32m     62\u001b[0m \u001b[39mdef\u001b[39;00m \u001b[39m__ge__\u001b[39m(\u001b[39mself\u001b[39m, other):\n\u001b[1;32m---> 63\u001b[0m     \u001b[39mreturn\u001b[39;00m \u001b[39mself\u001b[39;49m\u001b[39m.\u001b[39;49m_cmp_method(other, operator\u001b[39m.\u001b[39;49mge)\n",
      "File \u001b[1;32mc:\\Users\\alumno\\AppData\\Local\\Programs\\Python\\Python310\\lib\\site-packages\\pandas\\core\\series.py:6246\u001b[0m, in \u001b[0;36mSeries._cmp_method\u001b[1;34m(self, other, op)\u001b[0m\n\u001b[0;32m   6243\u001b[0m rvalues \u001b[39m=\u001b[39m extract_array(other, extract_numpy\u001b[39m=\u001b[39m\u001b[39mTrue\u001b[39;00m, extract_range\u001b[39m=\u001b[39m\u001b[39mTrue\u001b[39;00m)\n\u001b[0;32m   6245\u001b[0m \u001b[39mwith\u001b[39;00m np\u001b[39m.\u001b[39merrstate(\u001b[39mall\u001b[39m\u001b[39m=\u001b[39m\u001b[39m\"\u001b[39m\u001b[39mignore\u001b[39m\u001b[39m\"\u001b[39m):\n\u001b[1;32m-> 6246\u001b[0m     res_values \u001b[39m=\u001b[39m ops\u001b[39m.\u001b[39;49mcomparison_op(lvalues, rvalues, op)\n\u001b[0;32m   6248\u001b[0m \u001b[39mreturn\u001b[39;00m \u001b[39mself\u001b[39m\u001b[39m.\u001b[39m_construct_result(res_values, name\u001b[39m=\u001b[39mres_name)\n",
      "File \u001b[1;32mc:\\Users\\alumno\\AppData\\Local\\Programs\\Python\\Python310\\lib\\site-packages\\pandas\\core\\ops\\array_ops.py:287\u001b[0m, in \u001b[0;36mcomparison_op\u001b[1;34m(left, right, op)\u001b[0m\n\u001b[0;32m    284\u001b[0m     \u001b[39mreturn\u001b[39;00m invalid_comparison(lvalues, rvalues, op)\n\u001b[0;32m    286\u001b[0m \u001b[39melif\u001b[39;00m is_object_dtype(lvalues\u001b[39m.\u001b[39mdtype) \u001b[39mor\u001b[39;00m \u001b[39misinstance\u001b[39m(rvalues, \u001b[39mstr\u001b[39m):\n\u001b[1;32m--> 287\u001b[0m     res_values \u001b[39m=\u001b[39m comp_method_OBJECT_ARRAY(op, lvalues, rvalues)\n\u001b[0;32m    289\u001b[0m \u001b[39melse\u001b[39;00m:\n\u001b[0;32m    290\u001b[0m     res_values \u001b[39m=\u001b[39m _na_arithmetic_op(lvalues, rvalues, op, is_cmp\u001b[39m=\u001b[39m\u001b[39mTrue\u001b[39;00m)\n",
      "File \u001b[1;32mc:\\Users\\alumno\\AppData\\Local\\Programs\\Python\\Python310\\lib\\site-packages\\pandas\\core\\ops\\array_ops.py:75\u001b[0m, in \u001b[0;36mcomp_method_OBJECT_ARRAY\u001b[1;34m(op, x, y)\u001b[0m\n\u001b[0;32m     73\u001b[0m     result \u001b[39m=\u001b[39m libops\u001b[39m.\u001b[39mvec_compare(x\u001b[39m.\u001b[39mravel(), y\u001b[39m.\u001b[39mravel(), op)\n\u001b[0;32m     74\u001b[0m \u001b[39melse\u001b[39;00m:\n\u001b[1;32m---> 75\u001b[0m     result \u001b[39m=\u001b[39m libops\u001b[39m.\u001b[39;49mscalar_compare(x\u001b[39m.\u001b[39;49mravel(), y, op)\n\u001b[0;32m     76\u001b[0m \u001b[39mreturn\u001b[39;00m result\u001b[39m.\u001b[39mreshape(x\u001b[39m.\u001b[39mshape)\n",
      "File \u001b[1;32mc:\\Users\\alumno\\AppData\\Local\\Programs\\Python\\Python310\\lib\\site-packages\\pandas\\_libs\\ops.pyx:107\u001b[0m, in \u001b[0;36mpandas._libs.ops.scalar_compare\u001b[1;34m()\u001b[0m\n",
      "\u001b[1;31mTypeError\u001b[0m: '>=' not supported between instances of 'str' and 'int'"
     ]
    }
   ],
   "source": [
    "get_score_count(platform= 'amazon', scored= 4, year= 2020)"
   ]
  },
  {
   "attachments": {},
   "cell_type": "markdown",
   "metadata": {},
   "source": [
    "La función get_score_count recibe tres parámetros: platform (plataforma), scored (puntaje) y year (año).\n",
    "Primero, se filtra el DataFrame streaming por plataforma y año. Para ello, se utiliza el método str.contains() para buscar la cadena platform en la columna date_added, y se utiliza el operador & para combinar dos condiciones de filtro.\n",
    "Después, se cuenta el número de películas en el DataFrame filtrado que tienen un puntaje mayor o igual a scored, utilizando el método sum() después de aplicar la comparación >= en la columna rating.\n",
    "Por último, se devuelve el resultado de la cuenta."
   ]
  },
  {
   "cell_type": "code",
   "execution_count": 195,
   "metadata": {},
   "outputs": [],
   "source": [
    "def get_score_count(platform, scored, year):\n",
    "  \n",
    "    # Filtrar el DataFrame para el año y la puntuación deseados\n",
    "    filtered_df = streaming[(streaming['release_year'] == year) & (streaming['plataforma']== platform) & (streaming['score'] >= scored)]\n",
    "    \n",
    "    # Agrupar el DataFrame filtrado por plataforma y contar el número de películas en cada plataforma\n",
    "    platform_counts = filtered_df[filtered_df['type'] == 'Movie'].count()\n",
    "    \n",
    "    # Filtrar los resultados por la plataforma deseada\n",
    "    platform_count = platform_counts.iloc[platform]\n",
    "    \n",
    "    # Devolver el número de películas en la plataforma dada\n",
    "    return platform_count\n"
   ]
  },
  {
   "cell_type": "code",
   "execution_count": 196,
   "metadata": {},
   "outputs": [
    {
     "ename": "TypeError",
     "evalue": "Cannot index by location index with a non-integer key",
     "output_type": "error",
     "traceback": [
      "\u001b[1;31m---------------------------------------------------------------------------\u001b[0m",
      "\u001b[1;31mTypeError\u001b[0m                                 Traceback (most recent call last)",
      "\u001b[1;32md:\\proyect1\\PI-consultas.ipynb Celda 56\u001b[0m in \u001b[0;36m<cell line: 1>\u001b[1;34m()\u001b[0m\n\u001b[1;32m----> <a href='vscode-notebook-cell:/d%3A/proyect1/PI-consultas.ipynb#Y124sZmlsZQ%3D%3D?line=0'>1</a>\u001b[0m get_score_count(platform\u001b[39m=\u001b[39;49m \u001b[39m'\u001b[39;49m\u001b[39mamazon\u001b[39;49m\u001b[39m'\u001b[39;49m, scored\u001b[39m=\u001b[39;49m\u001b[39m'\u001b[39;49m\u001b[39m4\u001b[39;49m\u001b[39m'\u001b[39;49m, year\u001b[39m=\u001b[39;49m \u001b[39m2020\u001b[39;49m)\n",
      "\u001b[1;32md:\\proyect1\\PI-consultas.ipynb Celda 56\u001b[0m in \u001b[0;36mget_score_count\u001b[1;34m(platform, scored, year)\u001b[0m\n\u001b[0;32m      <a href='vscode-notebook-cell:/d%3A/proyect1/PI-consultas.ipynb#Y124sZmlsZQ%3D%3D?line=6'>7</a>\u001b[0m platform_counts \u001b[39m=\u001b[39m filtered_df[filtered_df[\u001b[39m'\u001b[39m\u001b[39mtype\u001b[39m\u001b[39m'\u001b[39m] \u001b[39m==\u001b[39m \u001b[39m'\u001b[39m\u001b[39mMovie\u001b[39m\u001b[39m'\u001b[39m]\u001b[39m.\u001b[39mcount()\n\u001b[0;32m      <a href='vscode-notebook-cell:/d%3A/proyect1/PI-consultas.ipynb#Y124sZmlsZQ%3D%3D?line=8'>9</a>\u001b[0m \u001b[39m# Filtrar los resultados por la plataforma deseada\u001b[39;00m\n\u001b[1;32m---> <a href='vscode-notebook-cell:/d%3A/proyect1/PI-consultas.ipynb#Y124sZmlsZQ%3D%3D?line=9'>10</a>\u001b[0m platform_count \u001b[39m=\u001b[39m platform_counts\u001b[39m.\u001b[39;49miloc[platform]\n\u001b[0;32m     <a href='vscode-notebook-cell:/d%3A/proyect1/PI-consultas.ipynb#Y124sZmlsZQ%3D%3D?line=11'>12</a>\u001b[0m \u001b[39m# Devolver el número de películas en la plataforma dada\u001b[39;00m\n\u001b[0;32m     <a href='vscode-notebook-cell:/d%3A/proyect1/PI-consultas.ipynb#Y124sZmlsZQ%3D%3D?line=12'>13</a>\u001b[0m \u001b[39mreturn\u001b[39;00m platform_count\n",
      "File \u001b[1;32mc:\\Users\\alumno\\AppData\\Local\\Programs\\Python\\Python310\\lib\\site-packages\\pandas\\core\\indexing.py:1074\u001b[0m, in \u001b[0;36m_LocationIndexer.__getitem__\u001b[1;34m(self, key)\u001b[0m\n\u001b[0;32m   1071\u001b[0m axis \u001b[39m=\u001b[39m \u001b[39mself\u001b[39m\u001b[39m.\u001b[39maxis \u001b[39mor\u001b[39;00m \u001b[39m0\u001b[39m\n\u001b[0;32m   1073\u001b[0m maybe_callable \u001b[39m=\u001b[39m com\u001b[39m.\u001b[39mapply_if_callable(key, \u001b[39mself\u001b[39m\u001b[39m.\u001b[39mobj)\n\u001b[1;32m-> 1074\u001b[0m \u001b[39mreturn\u001b[39;00m \u001b[39mself\u001b[39;49m\u001b[39m.\u001b[39;49m_getitem_axis(maybe_callable, axis\u001b[39m=\u001b[39;49maxis)\n",
      "File \u001b[1;32mc:\\Users\\alumno\\AppData\\Local\\Programs\\Python\\Python310\\lib\\site-packages\\pandas\\core\\indexing.py:1623\u001b[0m, in \u001b[0;36m_iLocIndexer._getitem_axis\u001b[1;34m(self, key, axis)\u001b[0m\n\u001b[0;32m   1621\u001b[0m key \u001b[39m=\u001b[39m item_from_zerodim(key)\n\u001b[0;32m   1622\u001b[0m \u001b[39mif\u001b[39;00m \u001b[39mnot\u001b[39;00m is_integer(key):\n\u001b[1;32m-> 1623\u001b[0m     \u001b[39mraise\u001b[39;00m \u001b[39mTypeError\u001b[39;00m(\u001b[39m\"\u001b[39m\u001b[39mCannot index by location index with a non-integer key\u001b[39m\u001b[39m\"\u001b[39m)\n\u001b[0;32m   1625\u001b[0m \u001b[39m# validate the location\u001b[39;00m\n\u001b[0;32m   1626\u001b[0m \u001b[39mself\u001b[39m\u001b[39m.\u001b[39m_validate_integer(key, axis)\n",
      "\u001b[1;31mTypeError\u001b[0m: Cannot index by location index with a non-integer key"
     ]
    }
   ],
   "source": [
    "get_score_count(platform= 'amazon', scored='4', year= 2020)"
   ]
  },
  {
   "cell_type": "code",
   "execution_count": 174,
   "metadata": {},
   "outputs": [
    {
     "data": {
      "text/plain": [
       "array(['movie', 'tv show'], dtype=object)"
      ]
     },
     "execution_count": 174,
     "metadata": {},
     "output_type": "execute_result"
    }
   ],
   "source": [
    "streaming['type'].unique()"
   ]
  },
  {
   "cell_type": "code",
   "execution_count": 199,
   "metadata": {},
   "outputs": [],
   "source": [
    "def get_score(platform= None, scored= None, year= None):\n",
    "    filtered_df = streaming[(streaming['release_year'] == year) & (streaming['plataforma']== platform) & (streaming['score'] >= scored)]\n",
    "    \n",
    "    score =  streaming['type']== 'movie' & filtered_df\n",
    "    return len(score)\n"
   ]
  },
  {
   "cell_type": "code",
   "execution_count": 201,
   "metadata": {},
   "outputs": [
    {
     "ename": "TypeError",
     "evalue": "unsupported operand type(s) for &: 'str' and 'DatetimeArray'",
     "output_type": "error",
     "traceback": [
      "\u001b[1;31m---------------------------------------------------------------------------\u001b[0m",
      "\u001b[1;31mTypeError\u001b[0m                                 Traceback (most recent call last)",
      "\u001b[1;32md:\\proyect1\\PI-consultas.ipynb Celda 59\u001b[0m in \u001b[0;36m<cell line: 1>\u001b[1;34m()\u001b[0m\n\u001b[1;32m----> <a href='vscode-notebook-cell:/d%3A/proyect1/PI-consultas.ipynb#Y122sZmlsZQ%3D%3D?line=0'>1</a>\u001b[0m get_score(platform\u001b[39m=\u001b[39;49m \u001b[39m'\u001b[39;49m\u001b[39mamazon\u001b[39;49m\u001b[39m'\u001b[39;49m, scored\u001b[39m=\u001b[39;49m \u001b[39m'\u001b[39;49m\u001b[39m5\u001b[39;49m\u001b[39m'\u001b[39;49m, year\u001b[39m=\u001b[39;49m \u001b[39m'\u001b[39;49m\u001b[39m2019\u001b[39;49m\u001b[39m'\u001b[39;49m)\n",
      "\u001b[1;32md:\\proyect1\\PI-consultas.ipynb Celda 59\u001b[0m in \u001b[0;36mget_score\u001b[1;34m(platform, scored, year)\u001b[0m\n\u001b[0;32m      <a href='vscode-notebook-cell:/d%3A/proyect1/PI-consultas.ipynb#Y122sZmlsZQ%3D%3D?line=0'>1</a>\u001b[0m \u001b[39mdef\u001b[39;00m \u001b[39mget_score\u001b[39m(platform\u001b[39m=\u001b[39m \u001b[39mNone\u001b[39;00m, scored\u001b[39m=\u001b[39m \u001b[39mNone\u001b[39;00m, year\u001b[39m=\u001b[39m \u001b[39mNone\u001b[39;00m):\n\u001b[0;32m      <a href='vscode-notebook-cell:/d%3A/proyect1/PI-consultas.ipynb#Y122sZmlsZQ%3D%3D?line=1'>2</a>\u001b[0m     filtered_df \u001b[39m=\u001b[39m streaming[(streaming[\u001b[39m'\u001b[39m\u001b[39mrelease_year\u001b[39m\u001b[39m'\u001b[39m] \u001b[39m==\u001b[39m year) \u001b[39m&\u001b[39m (streaming[\u001b[39m'\u001b[39m\u001b[39mplataforma\u001b[39m\u001b[39m'\u001b[39m]\u001b[39m==\u001b[39m platform) \u001b[39m&\u001b[39m (streaming[\u001b[39m'\u001b[39m\u001b[39mscore\u001b[39m\u001b[39m'\u001b[39m] \u001b[39m>\u001b[39m\u001b[39m=\u001b[39m scored)]\n\u001b[1;32m----> <a href='vscode-notebook-cell:/d%3A/proyect1/PI-consultas.ipynb#Y122sZmlsZQ%3D%3D?line=3'>4</a>\u001b[0m     score \u001b[39m=\u001b[39m  streaming[\u001b[39m'\u001b[39m\u001b[39mtype\u001b[39m\u001b[39m'\u001b[39m]\u001b[39m==\u001b[39m \u001b[39m'\u001b[39;49m\u001b[39mmovie\u001b[39;49m\u001b[39m'\u001b[39;49m \u001b[39m&\u001b[39;49m filtered_df\n\u001b[0;32m      <a href='vscode-notebook-cell:/d%3A/proyect1/PI-consultas.ipynb#Y122sZmlsZQ%3D%3D?line=4'>5</a>\u001b[0m     \u001b[39mreturn\u001b[39;00m \u001b[39mlen\u001b[39m(score)\n",
      "File \u001b[1;32mc:\\Users\\alumno\\AppData\\Local\\Programs\\Python\\Python310\\lib\\site-packages\\pandas\\core\\ops\\common.py:72\u001b[0m, in \u001b[0;36m_unpack_zerodim_and_defer.<locals>.new_method\u001b[1;34m(self, other)\u001b[0m\n\u001b[0;32m     68\u001b[0m             \u001b[39mreturn\u001b[39;00m \u001b[39mNotImplemented\u001b[39m\n\u001b[0;32m     70\u001b[0m other \u001b[39m=\u001b[39m item_from_zerodim(other)\n\u001b[1;32m---> 72\u001b[0m \u001b[39mreturn\u001b[39;00m method(\u001b[39mself\u001b[39;49m, other)\n",
      "File \u001b[1;32mc:\\Users\\alumno\\AppData\\Local\\Programs\\Python\\Python310\\lib\\site-packages\\pandas\\core\\arraylike.py:77\u001b[0m, in \u001b[0;36mOpsMixin.__rand__\u001b[1;34m(self, other)\u001b[0m\n\u001b[0;32m     75\u001b[0m \u001b[39m@unpack_zerodim_and_defer\u001b[39m(\u001b[39m\"\u001b[39m\u001b[39m__rand__\u001b[39m\u001b[39m\"\u001b[39m)\n\u001b[0;32m     76\u001b[0m \u001b[39mdef\u001b[39;00m \u001b[39m__rand__\u001b[39m(\u001b[39mself\u001b[39m, other):\n\u001b[1;32m---> 77\u001b[0m     \u001b[39mreturn\u001b[39;00m \u001b[39mself\u001b[39;49m\u001b[39m.\u001b[39;49m_logical_method(other, roperator\u001b[39m.\u001b[39;49mrand_)\n",
      "File \u001b[1;32mc:\\Users\\alumno\\AppData\\Local\\Programs\\Python\\Python310\\lib\\site-packages\\pandas\\core\\frame.py:7586\u001b[0m, in \u001b[0;36mDataFrame._arith_method\u001b[1;34m(self, other, op)\u001b[0m\n\u001b[0;32m   7582\u001b[0m other \u001b[39m=\u001b[39m ops\u001b[39m.\u001b[39mmaybe_prepare_scalar_for_op(other, (\u001b[39mself\u001b[39m\u001b[39m.\u001b[39mshape[axis],))\n\u001b[0;32m   7584\u001b[0m \u001b[39mself\u001b[39m, other \u001b[39m=\u001b[39m ops\u001b[39m.\u001b[39malign_method_FRAME(\u001b[39mself\u001b[39m, other, axis, flex\u001b[39m=\u001b[39m\u001b[39mTrue\u001b[39;00m, level\u001b[39m=\u001b[39m\u001b[39mNone\u001b[39;00m)\n\u001b[1;32m-> 7586\u001b[0m new_data \u001b[39m=\u001b[39m \u001b[39mself\u001b[39;49m\u001b[39m.\u001b[39;49m_dispatch_frame_op(other, op, axis\u001b[39m=\u001b[39;49maxis)\n\u001b[0;32m   7587\u001b[0m \u001b[39mreturn\u001b[39;00m \u001b[39mself\u001b[39m\u001b[39m.\u001b[39m_construct_result(new_data)\n",
      "File \u001b[1;32mc:\\Users\\alumno\\AppData\\Local\\Programs\\Python\\Python310\\lib\\site-packages\\pandas\\core\\frame.py:7613\u001b[0m, in \u001b[0;36mDataFrame._dispatch_frame_op\u001b[1;34m(self, right, func, axis)\u001b[0m\n\u001b[0;32m   7610\u001b[0m \u001b[39mif\u001b[39;00m \u001b[39mnot\u001b[39;00m is_list_like(right):\n\u001b[0;32m   7611\u001b[0m     \u001b[39m# i.e. scalar, faster than checking np.ndim(right) == 0\u001b[39;00m\n\u001b[0;32m   7612\u001b[0m     \u001b[39mwith\u001b[39;00m np\u001b[39m.\u001b[39merrstate(\u001b[39mall\u001b[39m\u001b[39m=\u001b[39m\u001b[39m\"\u001b[39m\u001b[39mignore\u001b[39m\u001b[39m\"\u001b[39m):\n\u001b[1;32m-> 7613\u001b[0m         bm \u001b[39m=\u001b[39m \u001b[39mself\u001b[39;49m\u001b[39m.\u001b[39;49m_mgr\u001b[39m.\u001b[39;49mapply(array_op, right\u001b[39m=\u001b[39;49mright)\n\u001b[0;32m   7614\u001b[0m     \u001b[39mreturn\u001b[39;00m \u001b[39mself\u001b[39m\u001b[39m.\u001b[39m_constructor(bm)\n\u001b[0;32m   7616\u001b[0m \u001b[39melif\u001b[39;00m \u001b[39misinstance\u001b[39m(right, DataFrame):\n",
      "File \u001b[1;32mc:\\Users\\alumno\\AppData\\Local\\Programs\\Python\\Python310\\lib\\site-packages\\pandas\\core\\internals\\managers.py:346\u001b[0m, in \u001b[0;36mBaseBlockManager.apply\u001b[1;34m(self, f, align_keys, ignore_failures, **kwargs)\u001b[0m\n\u001b[0;32m    344\u001b[0m \u001b[39mtry\u001b[39;00m:\n\u001b[0;32m    345\u001b[0m     \u001b[39mif\u001b[39;00m callable(f):\n\u001b[1;32m--> 346\u001b[0m         applied \u001b[39m=\u001b[39m b\u001b[39m.\u001b[39mapply(f, \u001b[39m*\u001b[39m\u001b[39m*\u001b[39mkwargs)\n\u001b[0;32m    347\u001b[0m     \u001b[39melse\u001b[39;00m:\n\u001b[0;32m    348\u001b[0m         applied \u001b[39m=\u001b[39m \u001b[39mgetattr\u001b[39m(b, f)(\u001b[39m*\u001b[39m\u001b[39m*\u001b[39mkwargs)\n",
      "File \u001b[1;32mc:\\Users\\alumno\\AppData\\Local\\Programs\\Python\\Python310\\lib\\site-packages\\pandas\\core\\internals\\blocks.py:352\u001b[0m, in \u001b[0;36mBlock.apply\u001b[1;34m(self, func, **kwargs)\u001b[0m\n\u001b[0;32m    346\u001b[0m \u001b[39m@final\u001b[39m\n\u001b[0;32m    347\u001b[0m \u001b[39mdef\u001b[39;00m \u001b[39mapply\u001b[39m(\u001b[39mself\u001b[39m, func, \u001b[39m*\u001b[39m\u001b[39m*\u001b[39mkwargs) \u001b[39m-\u001b[39m\u001b[39m>\u001b[39m \u001b[39mlist\u001b[39m[Block]:\n\u001b[0;32m    348\u001b[0m     \u001b[39m\"\"\"\u001b[39;00m\n\u001b[0;32m    349\u001b[0m \u001b[39m    apply the function to my values; return a block if we are not\u001b[39;00m\n\u001b[0;32m    350\u001b[0m \u001b[39m    one\u001b[39;00m\n\u001b[0;32m    351\u001b[0m \u001b[39m    \"\"\"\u001b[39;00m\n\u001b[1;32m--> 352\u001b[0m     result \u001b[39m=\u001b[39m func(\u001b[39mself\u001b[39m\u001b[39m.\u001b[39mvalues, \u001b[39m*\u001b[39m\u001b[39m*\u001b[39mkwargs)\n\u001b[0;32m    354\u001b[0m     \u001b[39mreturn\u001b[39;00m \u001b[39mself\u001b[39m\u001b[39m.\u001b[39m_split_op_result(result)\n",
      "File \u001b[1;32mc:\\Users\\alumno\\AppData\\Local\\Programs\\Python\\Python310\\lib\\site-packages\\pandas\\core\\ops\\array_ops.py:380\u001b[0m, in \u001b[0;36mlogical_op\u001b[1;34m(left, right, op)\u001b[0m\n\u001b[0;32m    376\u001b[0m rvalues \u001b[39m=\u001b[39m right\n\u001b[0;32m    378\u001b[0m \u001b[39mif\u001b[39;00m should_extension_dispatch(lvalues, rvalues):\n\u001b[0;32m    379\u001b[0m     \u001b[39m# Call the method on lvalues\u001b[39;00m\n\u001b[1;32m--> 380\u001b[0m     res_values \u001b[39m=\u001b[39m op(lvalues, rvalues)\n\u001b[0;32m    382\u001b[0m \u001b[39melse\u001b[39;00m:\n\u001b[0;32m    383\u001b[0m     \u001b[39mif\u001b[39;00m \u001b[39misinstance\u001b[39m(rvalues, np\u001b[39m.\u001b[39mndarray):\n",
      "File \u001b[1;32mc:\\Users\\alumno\\AppData\\Local\\Programs\\Python\\Python310\\lib\\site-packages\\pandas\\core\\roperator.py:54\u001b[0m, in \u001b[0;36mrand_\u001b[1;34m(left, right)\u001b[0m\n\u001b[0;32m     53\u001b[0m \u001b[39mdef\u001b[39;00m \u001b[39mrand_\u001b[39m(left, right):\n\u001b[1;32m---> 54\u001b[0m     \u001b[39mreturn\u001b[39;00m operator\u001b[39m.\u001b[39;49mand_(right, left)\n",
      "\u001b[1;31mTypeError\u001b[0m: unsupported operand type(s) for &: 'str' and 'DatetimeArray'"
     ]
    }
   ],
   "source": [
    "get_score(platform= 'amazon', scored= '5', year= '2019')"
   ]
  },
  {
   "attachments": {},
   "cell_type": "markdown",
   "metadata": {},
   "source": [
    "La función get_score_count(platform, scored, year) toma tres argumentos: platform, que es una cadena que representa la plataforma deseada, scored, que es el puntaje mínimo requerido para contar una película, y year, que es el año en el que se estrenaron las películas que se contarán. La función devuelve la cantidad de películas con una puntuación mayor o igual a scored en la plataforma especificada en el año especificado.\n",
    "\n",
    "La función primero filtra el DataFrame streaming para incluir solo las películas del año y la puntuación deseados. Luego, agrupa el DataFrame filtrado por plataforma y cuenta el número de películas en cada plataforma. Después, filtra los resultados por la plataforma deseada y devuelve el número de películas en la plataforma dada. Tenga en cuenta que la función solo cuenta películas (no series de televisión) y que solo cuenta películas que se han listado en una categoría (listed_in)."
   ]
  },
  {
   "cell_type": "code",
   "execution_count": null,
   "metadata": {},
   "outputs": [],
   "source": [
    "import pandas as pd\n",
    "\n",
    "def get_count_platform(platform):\n",
    "    # Filtrar el DataFrame para incluir solo las películas de la plataforma deseada\n",
    "    platform_movies = streaming[(streaming['type'] == 'Movie') & (streaming['listed_in'].str.contains(platform))]\n",
    "    \n",
    "    # Contar el número de películas en la plataforma dada\n",
    "    platform_count = platform_movies.shape[0]\n",
    "    \n",
    "    # Devolver el número de películas en la plataforma dada\n",
    "    return platform_count\n"
   ]
  },
  {
   "attachments": {},
   "cell_type": "markdown",
   "metadata": {},
   "source": [
    "La función get_count_platform(platform) toma un argumento platform, que es una cadena que representa la plataforma deseada, y devuelve la cantidad de películas en la plataforma dada.\n",
    "\n",
    "La función primero filtra el DataFrame streaming para incluir solo las películas de la plataforma deseada. Utiliza la función str.contains() para buscar la plataforma dada en la columna listed_in. Luego, cuenta el número de películas en la plataforma dada utilizando el método shape[0], que devuelve el número de filas en el DataFrame resultante. Finalmente, la función devuelve el número de películas en la plataforma dada. Tenga en cuenta que la función solo cuenta películas (no series de televisión)."
   ]
  },
  {
   "cell_type": "code",
   "execution_count": null,
   "metadata": {},
   "outputs": [],
   "source": [
    "import pandas as pd\n",
    "\n",
    "def get_actor(platform, year):\n",
    "    # Filtrar el DataFrame para el año y la plataforma deseados\n",
    "    filtered_df = streaming[(streaming['release_year'] == year) & (streaming['listed_in'].str.contains(platform))]\n",
    "    \n",
    "    # Crear una lista de actores únicos en el DataFrame filtrado\n",
    "    unique_actors = filtered_df['cast'].str.split(', ').explode().unique()\n",
    "    \n",
    "    # Contar la cantidad de veces que aparece cada actor en el DataFrame filtrado\n",
    "    actor_counts = {}\n",
    "    for actor in unique_actors:\n",
    "        count = filtered_df[filtered_df['cast'].str.contains(actor)].shape[0]\n",
    "        actor_counts[actor] = count\n",
    "    \n",
    "    # Encontrar el actor que más se repite\n",
    "    most_common_actor = max(actor_counts, key=actor_counts.get)\n",
    "    \n",
    "    # Devolver el actor que más se repite\n",
    "    return most_common_actor\n"
   ]
  },
  {
   "attachments": {},
   "cell_type": "markdown",
   "metadata": {},
   "source": [
    "La función get_actor(platform, year) toma dos argumentos: platform, que es una cadena que representa la plataforma deseada, y year, que es el año en el que se estrenaron las películas que se contarán. La función devuelve el actor que más se repite en la plataforma especificada en el año especificado.\n",
    "\n",
    "La función primero filtra el DataFrame streaming para incluir solo las películas del año y la plataforma deseados. Luego, crea una lista de actores únicos en el DataFrame filtrado utilizando el método str.split(', ').explode().unique(). Este método divide la cadena de actores separados por comas en una lista y luego explota la lista para crear una fila para cada actor en el DataFrame. El método unique() devuelve una lista de actores únicos en el DataFrame.\n",
    "\n",
    "Después, cuenta la cantidad de veces que aparece cada actor en el DataFrame filtrado utilizando un bucle for y el método shape[0]. Los resultados se almacenan en un diccionario llamado actor_counts con el actor como clave y el recuento como valor.\n",
    "\n",
    "Por último, la función encuentra el actor que más se repite utilizando la función max() y el método get() del diccionario actor_counts. La función devuelve el actor que más se repite. Tenga en cuenta que la función solo cuenta películas (no series de televisión) y que la columna cast puede contener múltiples actores separados por comas."
   ]
  }
 ],
 "metadata": {
  "kernelspec": {
   "display_name": "Python 3",
   "language": "python",
   "name": "python3"
  },
  "language_info": {
   "codemirror_mode": {
    "name": "ipython",
    "version": 3
   },
   "file_extension": ".py",
   "mimetype": "text/x-python",
   "name": "python",
   "nbconvert_exporter": "python",
   "pygments_lexer": "ipython3",
   "version": "3.10.10"
  },
  "orig_nbformat": 4
 },
 "nbformat": 4,
 "nbformat_minor": 2
}
